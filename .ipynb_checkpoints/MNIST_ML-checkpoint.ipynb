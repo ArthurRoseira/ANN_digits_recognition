{
 "cells": [
  {
   "cell_type": "markdown",
   "metadata": {},
   "source": [
    "# Handwritten Digits Recognition Using Neural Networks\n",
    "\n",
    "\n",
    "### Dataset:\n",
    "    In this work was developed using the MNIST database (Modified National Institute of Standards and Technology database) containing 60000 samples for training and 10000 for validation of handwritten digits and is commonly used for various image processing systems.\n",
    "    OBS: This dataset is provided in gzip file format (a byte stream that represents the objects)\n",
    "    \n",
    "### Machine Learning Models:\n",
    "    For this work an ANN was developed from scratch using only numpy as a non-standard python module. This ANN was implemented using stochastic gradient descent to minimize the cost function and a backpropagation algorithm to speed up the calculations during training between epochs.\n",
    "    At the end of this work a comparison between the model training results and the results from a SVM model will be made. The SVM model used is from scikit-learn module."
   ]
  },
  {
   "cell_type": "code",
   "execution_count": 1,
   "metadata": {},
   "outputs": [],
   "source": [
    "import load_data"
   ]
  },
  {
   "cell_type": "markdown",
   "metadata": {},
   "source": [
    "### Loading and Data Visualization\n",
    "    The training data is returned as a list o tuples with two entries. The first contains the actual image with an 1D array that represents the 784 pixels from each sample and the second entry is the actual digit (0 to 9) or the expected output from the ANN. "
   ]
  },
  {
   "cell_type": "code",
   "execution_count": 5,
   "metadata": {},
   "outputs": [
    {
     "name": "stdout",
     "output_type": "stream",
     "text": [
      "No of images in train_set: 50000 \n",
      "Each image is an array of 784 entries \n"
     ]
    }
   ],
   "source": [
    "train_set, valid_set, test_set = load_data.mnist_loader()\n",
    "print('No of images in train_set: %i ' % len(train_set[0]) )\n",
    "print('Each image is an array of %i entries ' % len(train_set[0][0]))\n",
    "train_x, train_y = train_set"
   ]
  },
  {
   "cell_type": "markdown",
   "metadata": {},
   "source": [
    "### Displaying the Samples "
   ]
  },
  {
   "cell_type": "code",
   "execution_count": 6,
   "metadata": {},
   "outputs": [
    {
     "data": {
      "image/png": "[encoded data removed]",
      "text/plain": [
       "<Figure size 432x288 with 5 Axes>"
      ]
     },
     "metadata": {
      "needs_background": "light"
     },
     "output_type": "display_data"
    }
   ],
   "source": [
    "import matplotlib.cm as cm\n",
    "import matplotlib.pyplot as plt\n",
    "for i in range(0,5):\n",
    "    plt.subplot(1,5,i+1)\n",
    "    plt.imshow(train_x[i].reshape((28,28)), cmap =cm.gray_r)\n",
    "    plt.axis('off')\n",
    "    plt.subplots_adjust(right=2)\n",
    "    plt.title('Value = %i' % train_y[i])\n",
    "plt.show()"
   ]
  },
  {
   "cell_type": "markdown",
   "metadata": {},
   "source": [
    "### Training the Neural Network using Backpropagation"
   ]
  },
  {
   "cell_type": "code",
   "execution_count": 2,
   "metadata": {},
   "outputs": [
    {
     "data": {
      "text/plain": [
       "'Epoch 0: 9070 / 10000'"
      ]
     },
     "execution_count": 2,
     "metadata": {},
     "output_type": "execute_result"
    }
   ],
   "source": [
    "import ann\n",
    "import numpy as np\n",
    "\n",
    "#Initializing the Ann 784 neurons in the input layer, one hidden layer with 30 neurons, 10 output neurons\n",
    "net = ann.Network([784, 30, 10])\n",
    "#using stochastic gradient descent to learn from the MNIST Training Data\n",
    "# 30 epochs\n",
    "# mini-batch size = 10\n",
    "# learning rate = 3.0\n",
    "training_data, validation_data, test_data = load_data.mnist_loader('ann')\n",
    "results = net.SGD(training_data, 30, 10, 3.0, test_data=test_data)\n",
    "results[-1]"
   ]
  },
  {
   "cell_type": "markdown",
   "metadata": {},
   "source": [
    "### ANN Predictions"
   ]
  },
  {
   "cell_type": "code",
   "execution_count": 7,
   "metadata": {},
   "outputs": [
    {
     "name": "stdout",
     "output_type": "stream",
     "text": [
      "10000\n",
      "<class 'tuple'>\n",
      "<class 'tuple'>\n",
      "<class 'tuple'>\n",
      "<class 'tuple'>\n",
      "<class 'tuple'>\n"
     ]
    },
    {
     "data": {
      "image/png": "[encoded data removed]",
      "text/plain": [
       "<Figure size 432x288 with 5 Axes>"
      ]
     },
     "metadata": {
      "needs_background": "light"
     },
     "output_type": "display_data"
    }
   ],
   "source": [
    "import random\n",
    "\n",
    "# 5 predictions\n",
    "for i in range(0,5):\n",
    "    index = random.randint(0, len(test_data))\n",
    "    plt.subplot(10, 5, i + 1)\n",
    "    plt.imshow(test_data[index][0].reshape((28, 28)), cmap=cm.gray_r)\n",
    "    res = net.predict(test_data[index])\n",
    "    plt.axis('off')\n",
    "    plt.subplots_adjust(top = 5, right = 2)\n",
    "    plt.title('Prediction: %i   ' % res[1])\n",
    "plt.show()"
   ]
  },
  {
   "cell_type": "markdown",
   "metadata": {},
   "source": [
    "It's important to remark that the neural network's output is assumed to be the index of whichever neuron in the final layer has the highest activation. In pratical terms, the output of the feedfoward method will be an array of 10 positions and the index of the biggest element represents the predicted digit"
   ]
  },
  {
   "cell_type": "markdown",
   "metadata": {},
   "source": [
    "### Compairing the ANN result with a SVM model\n",
    "\n",
    "To train the SVC model will be used just a small portion of the original training dataset"
   ]
  },
  {
   "cell_type": "code",
   "execution_count": 12,
   "metadata": {},
   "outputs": [
    {
     "name": "stdout",
     "output_type": "stream",
     "text": [
      "Classification report for SVM classifier: \n",
      " SVC(kernel='sigmoid')\n",
      "\n",
      "              precision    recall  f1-score   support\n",
      "\n",
      "           0       0.84      0.89      0.86       980\n",
      "           1       0.93      0.97      0.95      1135\n",
      "           2       0.84      0.81      0.82      1032\n",
      "           3       0.84      0.79      0.81      1010\n",
      "           4       0.84      0.91      0.88       982\n",
      "           5       0.67      0.74      0.71       892\n",
      "           6       0.93      0.87      0.90       958\n",
      "           7       0.89      0.88      0.89      1028\n",
      "           8       0.82      0.74      0.78       974\n",
      "           9       0.84      0.81      0.83      1009\n",
      "\n",
      "    accuracy                           0.85     10000\n",
      "   macro avg       0.84      0.84      0.84     10000\n",
      "weighted avg       0.85      0.85      0.85     10000\n",
      "\n",
      "\n"
     ]
    }
   ],
   "source": [
    "from sklearn import svm\n",
    "from sklearn.metrics import classification_report\n",
    "test_x, test_y = test_set\n",
    "no_images = len(train_x)\n",
    "reduced_training_set_x = train_x[0: no_images // 10] # 784 array with image pixels\n",
    "reduced_training_set_y = train_y[0: no_images // 10] # Image real digits\n",
    "model = svm.SVC(kernel='sigmoid')\n",
    "model_fit = model.fit(reduced_training_set_x, reduced_training_set_y)\n",
    "predictions = model_fit.predict(test_x)\n",
    "# Print Overal metrics from the model\n",
    "print(\"Classification report for SVM classifier: \\n %s\\n\\n%s\\n\"\n",
    "      % (model, classification_report(test_y, predictions)))"
   ]
  },
  {
   "cell_type": "code",
   "execution_count": 13,
   "metadata": {},
   "outputs": [
    {
     "data": {
      "image/png": "[encoded data removed]",
      "text/plain": [
       "<Figure size 432x288 with 5 Axes>"
      ]
     },
     "metadata": {
      "needs_background": "light"
     },
     "output_type": "display_data"
    }
   ],
   "source": [
    "for i in range(0, 5):\n",
    "    random_index = random.randint(0, len(test_x) - 1)\n",
    "    plt.subplot(10, 5, i + 1)\n",
    "    plt.imshow(test_x[random_index].reshape((28, 28)), cmap=cm.gray_r)\n",
    "    plt.axis('off')\n",
    "    plt.subplots_adjust(top = 5, right = 2)\n",
    "    plt.title('Prediction: %i   ' % predictions[random_index])\n",
    "plt.show()"
   ]
  },
  {
   "cell_type": "markdown",
   "metadata": {},
   "source": [
    "### Conclusion\n",
    "\n",
    "The ANN showed a good performance in terms of accuracy compairing to the SVM model, even taking a long time to train the model it was possible to conclude that a simple ANN can have a significative performance without spend much time with parametrization. The performance and accuracy of both models depends heavily on the hyper parameters used and the training data size, so the SVM could have a result better even compairing with the ANN model if well parameterized and anyhow has the advantage of being way faster.\n",
    "For futher work, the main focus will be realted on develop better methods of learning for the ANN model and decrease the training time.\n"
   ]
  }
 ],
 "metadata": {
  "kernelspec": {
   "display_name": "Python 3",
   "language": "python",
   "name": "python3"
  },
  "language_info": {
   "codemirror_mode": {
    "name": "ipython",
    "version": 3
   },
   "file_extension": ".py",
   "mimetype": "text/x-python",
   "name": "python",
   "nbconvert_exporter": "python",
   "pygments_lexer": "ipython3",
   "version": "3.9.1"
  }
 },
 "nbformat": 4,
 "nbformat_minor": 2
}
